{
 "cells": [
  {
   "cell_type": "markdown",
   "id": "deb41fe4",
   "metadata": {},
   "source": [
    "# NLP Course"
   ]
  },
  {
   "cell_type": "markdown",
   "id": "f3844679",
   "metadata": {},
   "source": [
    "Welcome to my notebook of learning NLP"
   ]
  },
  {
   "cell_type": "markdown",
   "id": "21cb83a4",
   "metadata": {},
   "source": [
    "## Topic 1 (Python Text Basics)"
   ]
  },
  {
   "cell_type": "code",
   "execution_count": 12,
   "id": "c39b30bf",
   "metadata": {},
   "outputs": [
    {
     "name": "stdout",
     "output_type": "stream",
     "text": [
      "My name is Rishith\n"
     ]
    }
   ],
   "source": [
    "#Formatted string literal\n",
    "person = \"Rishith\"\n",
    "print(f\"My name is {person}\")"
   ]
  },
  {
   "cell_type": "code",
   "execution_count": 3,
   "id": "4a9eb665",
   "metadata": {},
   "outputs": [],
   "source": [
    "libList = [('Author', 'Topic', 'Pages'), \n",
    "             ('Twain', 'Rafting', 601),\n",
    "             ('Fenyman', 'Physics', 95),\n",
    "             ('Hamilton', 'Mythology', 144)]"
   ]
  },
  {
   "cell_type": "code",
   "execution_count": 6,
   "id": "91e266d4",
   "metadata": {},
   "outputs": [
    {
     "name": "stdout",
     "output_type": "stream",
     "text": [
      "Author     Topic                          .....Pages\n",
      "Twain      Rafting                        .......601\n",
      "Fenyman    Physics                        ........95\n",
      "Hamilton   Mythology                      .......144\n"
     ]
    }
   ],
   "source": [
    "# A way to nicely format it\n",
    "for author, topic, pages in libList:\n",
    "    print(f\"{author:{10}} {topic:{30}} {pages:.>{10}}\") #for better formatting\n",
    "    # > used for allignment for Pages"
   ]
  },
  {
   "cell_type": "code",
   "execution_count": null,
   "id": "0fe814b0",
   "metadata": {},
   "outputs": [],
   "source": []
  },
  {
   "cell_type": "code",
   "execution_count": null,
   "id": "caac4cca",
   "metadata": {},
   "outputs": [],
   "source": []
  },
  {
   "cell_type": "code",
   "execution_count": null,
   "id": "4afd6202",
   "metadata": {},
   "outputs": [],
   "source": []
  },
  {
   "cell_type": "code",
   "execution_count": 7,
   "id": "0ce98891",
   "metadata": {},
   "outputs": [],
   "source": [
    "#Date formating\n",
    "from datetime import datetime\n",
    "today = datetime(year=2019, month=2, day=28) #creating datetime object"
   ]
  },
  {
   "cell_type": "code",
   "execution_count": 11,
   "id": "501423d2",
   "metadata": {},
   "outputs": [
    {
     "name": "stdout",
     "output_type": "stream",
     "text": [
      "February 28, 2019\n"
     ]
    }
   ],
   "source": [
    "#strftime.org has examples and specific formats\n",
    "print(f\"{today:%B %d, %Y}\") #extracting B (month) and "
   ]
  },
  {
   "cell_type": "code",
   "execution_count": null,
   "id": "356538f6",
   "metadata": {},
   "outputs": [],
   "source": []
  }
 ],
 "metadata": {
  "kernelspec": {
   "display_name": "Python 3 (ipykernel)",
   "language": "python",
   "name": "python3"
  },
  "language_info": {
   "codemirror_mode": {
    "name": "ipython",
    "version": 3
   },
   "file_extension": ".py",
   "mimetype": "text/x-python",
   "name": "python",
   "nbconvert_exporter": "python",
   "pygments_lexer": "ipython3",
   "version": "3.7.16"
  }
 },
 "nbformat": 4,
 "nbformat_minor": 5
}
