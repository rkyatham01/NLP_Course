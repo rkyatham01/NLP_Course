{
 "cells": [
  {
   "cell_type": "markdown",
   "id": "deb41fe4",
   "metadata": {},
   "source": [
    "# NLP Course"
   ]
  },
  {
   "cell_type": "markdown",
   "id": "f3844679",
   "metadata": {},
   "source": [
    "Welcome to my notebook of learning NLP"
   ]
  },
  {
   "cell_type": "markdown",
   "id": "21cb83a4",
   "metadata": {},
   "source": [
    "## Topic 1 (Python Text Basics)"
   ]
  },
  {
   "cell_type": "markdown",
   "id": "b46a0974",
   "metadata": {},
   "source": [
    "### Working with Text Files with Python - Part One"
   ]
  },
  {
   "cell_type": "code",
   "execution_count": 44,
   "id": "3aece4cb",
   "metadata": {},
   "outputs": [
    {
     "name": "stdout",
     "output_type": "stream",
     "text": [
      "My name is Rishith\n"
     ]
    }
   ],
   "source": [
    "#Formatted string literal\n",
    "person = \"Rishith\"\n",
    "print(f\"My name is {person}\")"
   ]
  },
  {
   "cell_type": "code",
   "execution_count": 45,
   "id": "4a9eb665",
   "metadata": {},
   "outputs": [],
   "source": [
    "libList = [('Author', 'Topic', 'Pages'), \n",
    "             ('Twain', 'Rafting', 601),\n",
    "             ('Fenyman', 'Physics', 95),\n",
    "             ('Hamilton', 'Mythology', 144)]"
   ]
  },
  {
   "cell_type": "code",
   "execution_count": 46,
   "id": "befd4e70",
   "metadata": {},
   "outputs": [
    {
     "name": "stdout",
     "output_type": "stream",
     "text": [
      "Author     Topic                          .....Pages\n",
      "Twain      Rafting                        .......601\n",
      "Fenyman    Physics                        ........95\n",
      "Hamilton   Mythology                      .......144\n"
     ]
    }
   ],
   "source": [
    "# A way to nicely format it\n",
    "for author, topic, pages in libList:\n",
    "    print(f\"{author:{10}} {topic:{30}} {pages:.>{10}}\") #for better formatting\n",
    "    # > used for allignment for Pages"
   ]
  },
  {
   "cell_type": "code",
   "execution_count": 47,
   "id": "a0094517",
   "metadata": {},
   "outputs": [],
   "source": [
    "#Date formating\n",
    "from datetime import datetime\n",
    "today = datetime(year=2019, month=2, day=28) #creating datetime object"
   ]
  },
  {
   "cell_type": "code",
   "execution_count": 48,
   "id": "41c8c686",
   "metadata": {},
   "outputs": [
    {
     "name": "stdout",
     "output_type": "stream",
     "text": [
      "February 28, 2019\n"
     ]
    }
   ],
   "source": [
    "#strftime.org has examples and specific formats\n",
    "print(f\"{today:%B %d, %Y}\") #extracting B (month) and d (day) and Y (Year)"
   ]
  },
  {
   "cell_type": "markdown",
   "id": "20d963cd",
   "metadata": {},
   "source": [
    "### Working with Text Files with Python - Part Two"
   ]
  },
  {
   "cell_type": "code",
   "execution_count": 49,
   "id": "a6c052b1",
   "metadata": {},
   "outputs": [
    {
     "name": "stdout",
     "output_type": "stream",
     "text": [
      "Overwriting test.txt\n"
     ]
    }
   ],
   "source": [
    "%%writefile test.txt\n",
    "Hello, this is a quick test file.\n",
    "This is the second line of the file."
   ]
  },
  {
   "cell_type": "code",
   "execution_count": 50,
   "id": "c93a9055",
   "metadata": {},
   "outputs": [
    {
     "name": "stdout",
     "output_type": "stream",
     "text": [
      "Hello, this is a quick test file.\n",
      "This is the second line of the file.\n",
      "\n"
     ]
    }
   ],
   "source": [
    "myfile = open('test.txt') #do pwd for path\n",
    "myfile.seek(0) #resets the cursor so you could read the file again\n",
    "content = myfile.read()\n",
    "print(content) #accounts for \\n (newline) characters\n",
    "myfile.close() #to avoid memory leaks or might cause issues"
   ]
  },
  {
   "cell_type": "code",
   "execution_count": 51,
   "id": "17e3e3c2",
   "metadata": {},
   "outputs": [
    {
     "name": "stdout",
     "output_type": "stream",
     "text": [
      "Hello,\n",
      "This\n"
     ]
    }
   ],
   "source": [
    "myfile = open('test.txt')\n",
    "mylines = myfile.readlines() #reads in the text in a list with \\n as seperators\n",
    "for line in mylines:\n",
    "    print(line.split()[0]) #splits lines on empty space  \n",
    "myfile.close()"
   ]
  },
  {
   "cell_type": "code",
   "execution_count": 52,
   "id": "f47e929b",
   "metadata": {},
   "outputs": [
    {
     "data": {
      "text/plain": [
       "''"
      ]
     },
     "execution_count": 52,
     "metadata": {},
     "output_type": "execute_result"
    }
   ],
   "source": [
    "myfile = open('test.txt', 'w+') #can read/write to the file \n",
    "# use w+ or w when you want to completely overwrite the file\n",
    "myfile.read()"
   ]
  },
  {
   "cell_type": "code",
   "execution_count": 53,
   "id": "52f997ee",
   "metadata": {},
   "outputs": [
    {
     "data": {
      "text/plain": [
       "'My Brand New Text'"
      ]
     },
     "execution_count": 53,
     "metadata": {},
     "output_type": "execute_result"
    }
   ],
   "source": [
    "myfile.write(\"My Brand New Text\")\n",
    "myfile.seek(0)\n",
    "myfile.read()"
   ]
  },
  {
   "cell_type": "code",
   "execution_count": 54,
   "id": "87d08c32",
   "metadata": {},
   "outputs": [
    {
     "data": {
      "text/plain": [
       "'My Brand New TextMy First Line in A+ opening'"
      ]
     },
     "execution_count": 54,
     "metadata": {},
     "output_type": "execute_result"
    }
   ],
   "source": [
    "myfile.close()\n",
    "myfile = open('test.txt', 'a+') #opens file in append mode\n",
    "myfile.write(\"My First Line in A+ opening\") #can't read in this mode\n",
    "myfile.close()\n",
    "myfile = open('test.txt', 'r')\n",
    "myfile.read()"
   ]
  },
  {
   "cell_type": "code",
   "execution_count": 55,
   "id": "f02d9670",
   "metadata": {},
   "outputs": [
    {
     "data": {
      "text/plain": [
       "'My Brand New TextMy First Line in A+ opening\\nThis is a added line bc I used a+ mode'"
      ]
     },
     "execution_count": 55,
     "metadata": {},
     "output_type": "execute_result"
    }
   ],
   "source": [
    "myfile.close()\n",
    "myfile = open('test.txt', mode='a+')\n",
    "myfile.write('\\nThis is a added line bc I used a+ mode')\n",
    "myfile.seek(0)\n",
    "myfile.read()"
   ]
  },
  {
   "cell_type": "code",
   "execution_count": 56,
   "id": "eb11f649",
   "metadata": {},
   "outputs": [],
   "source": [
    "with open('whoops.txt', 'r') as mynewfile: #will automatically close file after\n",
    "    myvariable = mynewfile.readlines() "
   ]
  },
  {
   "cell_type": "markdown",
   "id": "153f41b9",
   "metadata": {},
   "source": [
    "### Working with PDFs"
   ]
  },
  {
   "cell_type": "code",
   "execution_count": 57,
   "id": "4ce285c2",
   "metadata": {},
   "outputs": [
    {
     "data": {
      "text/plain": [
       "5"
      ]
     },
     "execution_count": 57,
     "metadata": {},
     "output_type": "execute_result"
    }
   ],
   "source": [
    "#Using pyPDF2 library : to extract text from PDF files directly created from a\n",
    "#word processor\n",
    "import PyPDF2\n",
    "myfile = open('US_Declaration.pdf', mode='rb')\n",
    "pdf_reader = PyPDF2.PdfFileReader(myfile)\n",
    "pdf_reader.numPages\n"
   ]
  },
  {
   "cell_type": "code",
   "execution_count": 62,
   "id": "4163bad3",
   "metadata": {},
   "outputs": [],
   "source": [
    "page_one = pdf_reader.getPage(0) #puts page 1 into page_one\n",
    "#page_one.extractText() #extracts all the text from the first page"
   ]
  },
  {
   "cell_type": "code",
   "execution_count": 59,
   "id": "1c6f8208",
   "metadata": {},
   "outputs": [],
   "source": [
    "myfile.close()\n",
    "f = open('US_Declaration.pdf', 'rb')\n",
    "pdf_reader = PyPDF2.PdfFileReader(f)\n",
    "first_page = pdf_reader.getPage(0)\n",
    "pdf_writer = PyPDF2.PdfFileWriter() #Creates a pdf_writer object\n",
    "pdf_writer.addPage(first_page) #added first_page to pdf_writer object\n",
    "pdf_output = open('My_BRAND_NEW.pdf', 'wb')\n",
    "pdf_writer.write(pdf_output) #writes whatevers in writer object to the PDF\n",
    "pdf_output.close() #closing both files\n",
    "f.close()"
   ]
  },
  {
   "cell_type": "code",
   "execution_count": 61,
   "id": "1d370ef4",
   "metadata": {},
   "outputs": [],
   "source": [
    "f = open('US_Declaration.pdf', 'rb')\n",
    "pdf_text = []\n",
    "pdf_reader = PyPDF2.PdfFileReader(f)\n",
    "for p in range(pdf_reader.numPages):\n",
    "    page = pdf_reader.getPage(p)\n",
    "    pdf_text.append(page.extractText()) #Appends text from each page to the pdf_text array\n",
    "#print(pdf_text)\n",
    "f.close()"
   ]
  },
  {
   "cell_type": "markdown",
   "id": "94065aec",
   "metadata": {},
   "source": [
    "### Regular Expressions Part One"
   ]
  },
  {
   "cell_type": "code",
   "execution_count": null,
   "id": "c22ba0ef",
   "metadata": {},
   "outputs": [],
   "source": []
  }
 ],
 "metadata": {
  "kernelspec": {
   "display_name": "Python 3 (ipykernel)",
   "language": "python",
   "name": "python3"
  },
  "language_info": {
   "codemirror_mode": {
    "name": "ipython",
    "version": 3
   },
   "file_extension": ".py",
   "mimetype": "text/x-python",
   "name": "python",
   "nbconvert_exporter": "python",
   "pygments_lexer": "ipython3",
   "version": "3.7.16"
  }
 },
 "nbformat": 4,
 "nbformat_minor": 5
}
