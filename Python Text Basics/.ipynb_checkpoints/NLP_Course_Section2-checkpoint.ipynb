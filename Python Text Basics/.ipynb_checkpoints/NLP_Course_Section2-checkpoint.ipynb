{
 "cells": [
  {
   "cell_type": "markdown",
   "id": "deb41fe4",
   "metadata": {},
   "source": [
    "# NLP Course"
   ]
  },
  {
   "cell_type": "markdown",
   "id": "f3844679",
   "metadata": {},
   "source": [
    "Welcome to my notebook of learning NLP"
   ]
  },
  {
   "cell_type": "markdown",
   "id": "21cb83a4",
   "metadata": {},
   "source": [
    "## Topic 1 (Python Text Basics)"
   ]
  },
  {
   "cell_type": "markdown",
   "id": "b46a0974",
   "metadata": {},
   "source": [
    "### Working with Text Files with Python - Part One"
   ]
  },
  {
   "cell_type": "code",
   "execution_count": 1,
   "id": "3aece4cb",
   "metadata": {},
   "outputs": [
    {
     "name": "stdout",
     "output_type": "stream",
     "text": [
      "My name is Rishith\n"
     ]
    }
   ],
   "source": [
    "#Formatted string literal\n",
    "person = \"Rishith\"\n",
    "print(f\"My name is {person}\")"
   ]
  },
  {
   "cell_type": "code",
   "execution_count": 2,
   "id": "4a9eb665",
   "metadata": {},
   "outputs": [],
   "source": [
    "libList = [('Author', 'Topic', 'Pages'), \n",
    "             ('Twain', 'Rafting', 601),\n",
    "             ('Fenyman', 'Physics', 95),\n",
    "             ('Hamilton', 'Mythology', 144)]"
   ]
  },
  {
   "cell_type": "code",
   "execution_count": 3,
   "id": "befd4e70",
   "metadata": {},
   "outputs": [
    {
     "name": "stdout",
     "output_type": "stream",
     "text": [
      "Author     Topic                          .....Pages\n",
      "Twain      Rafting                        .......601\n",
      "Fenyman    Physics                        ........95\n",
      "Hamilton   Mythology                      .......144\n"
     ]
    }
   ],
   "source": [
    "# A way to nicely format it\n",
    "for author, topic, pages in libList:\n",
    "    print(f\"{author:{10}} {topic:{30}} {pages:.>{10}}\") #for better formatting\n",
    "    # > used for allignment for Pages"
   ]
  },
  {
   "cell_type": "code",
   "execution_count": 4,
   "id": "a0094517",
   "metadata": {},
   "outputs": [],
   "source": [
    "#Date formating\n",
    "from datetime import datetime\n",
    "today = datetime(year=2019, month=2, day=28) #creating datetime object"
   ]
  },
  {
   "cell_type": "code",
   "execution_count": 5,
   "id": "41c8c686",
   "metadata": {},
   "outputs": [
    {
     "name": "stdout",
     "output_type": "stream",
     "text": [
      "February 28, 2019\n"
     ]
    }
   ],
   "source": [
    "#strftime.org has examples and specific formats\n",
    "print(f\"{today:%B %d, %Y}\") #extracting B (month) and d (day) and Y (Year)"
   ]
  },
  {
   "cell_type": "markdown",
   "id": "20d963cd",
   "metadata": {},
   "source": [
    "### Working with Text Files with Python - Part Two"
   ]
  },
  {
   "cell_type": "code",
   "execution_count": 6,
   "id": "a6c052b1",
   "metadata": {},
   "outputs": [
    {
     "name": "stdout",
     "output_type": "stream",
     "text": [
      "Overwriting test.txt\n"
     ]
    }
   ],
   "source": [
    "%%writefile test.txt\n",
    "Hello, this is a quick test file.\n",
    "This is the second line of the file."
   ]
  },
  {
   "cell_type": "code",
   "execution_count": 7,
   "id": "c93a9055",
   "metadata": {},
   "outputs": [
    {
     "name": "stdout",
     "output_type": "stream",
     "text": [
      "Hello, this is a quick test file.\n",
      "This is the second line of the file.\n",
      "\n"
     ]
    }
   ],
   "source": [
    "myfile = open('test.txt') #do pwd for path\n",
    "myfile.seek(0) #resets the cursor so you could read the file again\n",
    "content = myfile.read()\n",
    "print(content) #accounts for \\n (newline) characters\n",
    "myfile.close() #to avoid memory leaks or might cause issues"
   ]
  },
  {
   "cell_type": "code",
   "execution_count": 8,
   "id": "17e3e3c2",
   "metadata": {},
   "outputs": [
    {
     "name": "stdout",
     "output_type": "stream",
     "text": [
      "Hello,\n",
      "This\n"
     ]
    }
   ],
   "source": [
    "myfile = open('test.txt')\n",
    "mylines = myfile.readlines() #reads in the text in a list with \\n as seperators\n",
    "for line in mylines:\n",
    "    print(line.split()[0]) #splits lines on empty space  \n",
    "myfile.close()"
   ]
  },
  {
   "cell_type": "code",
   "execution_count": 9,
   "id": "f47e929b",
   "metadata": {},
   "outputs": [
    {
     "data": {
      "text/plain": [
       "''"
      ]
     },
     "execution_count": 9,
     "metadata": {},
     "output_type": "execute_result"
    }
   ],
   "source": [
    "myfile = open('test.txt', 'w+') #can read/write to the file \n",
    "# use w+ or w when you want to completely overwrite the file\n",
    "myfile.read()"
   ]
  },
  {
   "cell_type": "code",
   "execution_count": 10,
   "id": "52f997ee",
   "metadata": {},
   "outputs": [
    {
     "data": {
      "text/plain": [
       "'My Brand New Text'"
      ]
     },
     "execution_count": 10,
     "metadata": {},
     "output_type": "execute_result"
    }
   ],
   "source": [
    "myfile.write(\"My Brand New Text\")\n",
    "myfile.seek(0)\n",
    "myfile.read()"
   ]
  },
  {
   "cell_type": "code",
   "execution_count": 11,
   "id": "87d08c32",
   "metadata": {},
   "outputs": [
    {
     "data": {
      "text/plain": [
       "'My Brand New TextMy First Line in A+ opening'"
      ]
     },
     "execution_count": 11,
     "metadata": {},
     "output_type": "execute_result"
    }
   ],
   "source": [
    "myfile.close()\n",
    "myfile = open('test.txt', 'a+') #opens file in append mode\n",
    "myfile.write(\"My First Line in A+ opening\") #can't read in this mode\n",
    "myfile.close()\n",
    "myfile = open('test.txt', 'r')\n",
    "myfile.read()"
   ]
  },
  {
   "cell_type": "code",
   "execution_count": 12,
   "id": "f02d9670",
   "metadata": {},
   "outputs": [
    {
     "data": {
      "text/plain": [
       "'My Brand New TextMy First Line in A+ opening\\nThis is a added line bc I used a+ mode'"
      ]
     },
     "execution_count": 12,
     "metadata": {},
     "output_type": "execute_result"
    }
   ],
   "source": [
    "myfile.close()\n",
    "myfile = open('test.txt', mode='a+')\n",
    "myfile.write('\\nThis is a added line bc I used a+ mode')\n",
    "myfile.seek(0)\n",
    "myfile.read()"
   ]
  },
  {
   "cell_type": "code",
   "execution_count": 13,
   "id": "eb11f649",
   "metadata": {},
   "outputs": [],
   "source": [
    "with open('whoops.txt', 'r') as mynewfile: #will automatically close file after\n",
    "    myvariable = mynewfile.readlines() "
   ]
  },
  {
   "cell_type": "markdown",
   "id": "153f41b9",
   "metadata": {},
   "source": [
    "### Working with PDFs"
   ]
  },
  {
   "cell_type": "code",
   "execution_count": 15,
   "id": "4ce285c2",
   "metadata": {},
   "outputs": [
    {
     "ename": "NameError",
     "evalue": "name 'pyPDF2' is not defined",
     "output_type": "error",
     "traceback": [
      "\u001b[1;31m---------------------------------------------------------------------------\u001b[0m",
      "\u001b[1;31mNameError\u001b[0m                                 Traceback (most recent call last)",
      "\u001b[1;32m~\\AppData\\Local\\Temp\\ipykernel_14792\\3916933301.py\u001b[0m in \u001b[0;36m<module>\u001b[1;34m\u001b[0m\n\u001b[0;32m      3\u001b[0m \u001b[1;32mimport\u001b[0m \u001b[0mPyPDF2\u001b[0m\u001b[1;33m\u001b[0m\u001b[1;33m\u001b[0m\u001b[0m\n\u001b[0;32m      4\u001b[0m \u001b[0mmyfile\u001b[0m \u001b[1;33m=\u001b[0m \u001b[0mopen\u001b[0m\u001b[1;33m(\u001b[0m\u001b[1;34m'US_Declaration.pdf'\u001b[0m\u001b[1;33m,\u001b[0m \u001b[0mmode\u001b[0m\u001b[1;33m=\u001b[0m\u001b[1;34m'rb'\u001b[0m\u001b[1;33m)\u001b[0m\u001b[1;33m\u001b[0m\u001b[1;33m\u001b[0m\u001b[0m\n\u001b[1;32m----> 5\u001b[1;33m \u001b[0mpdf_reader\u001b[0m \u001b[1;33m=\u001b[0m \u001b[0mpyPDF2\u001b[0m\u001b[1;33m.\u001b[0m\u001b[0mPdfFileReader\u001b[0m\u001b[1;33m(\u001b[0m\u001b[0mmyfile\u001b[0m\u001b[1;33m)\u001b[0m\u001b[1;33m\u001b[0m\u001b[1;33m\u001b[0m\u001b[0m\n\u001b[0m",
      "\u001b[1;31mNameError\u001b[0m: name 'pyPDF2' is not defined"
     ]
    }
   ],
   "source": [
    "#Using pyPDF2 library : to extract text from PDF files directly created from a\n",
    "#word processor\n",
    "import PyPDF2\n",
    "myfile = open('US_Declaration.pdf', mode='rb')\n",
    "pdf_reader = PyPDF2.PdfFileReader(myfile)\n"
   ]
  },
  {
   "cell_type": "code",
   "execution_count": null,
   "id": "4163bad3",
   "metadata": {},
   "outputs": [],
   "source": []
  }
 ],
 "metadata": {
  "kernelspec": {
   "display_name": "Python 3 (ipykernel)",
   "language": "python",
   "name": "python3"
  },
  "language_info": {
   "codemirror_mode": {
    "name": "ipython",
    "version": 3
   },
   "file_extension": ".py",
   "mimetype": "text/x-python",
   "name": "python",
   "nbconvert_exporter": "python",
   "pygments_lexer": "ipython3",
   "version": "3.7.16"
  }
 },
 "nbformat": 4,
 "nbformat_minor": 5
}
